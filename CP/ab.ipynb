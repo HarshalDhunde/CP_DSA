{
 "cells": [
  {
   "cell_type": "code",
   "execution_count": 1,
   "metadata": {},
   "outputs": [
    {
     "name": "stdout",
     "output_type": "stream",
     "text": [
      "Harshal\n"
     ]
    }
   ],
   "source": [
    "class Student:\n",
    "    def __init__(self) -> None:\n",
    "        print(\"Harshal\")\n",
    "    \n",
    "obj1=Student()        "
   ]
  }
 ],
 "metadata": {
  "kernelspec": {
   "display_name": "Python 3",
   "language": "python",
   "name": "python3"
  },
  "language_info": {
   "codemirror_mode": {
    "name": "ipython",
    "version": 3
   },
   "file_extension": ".py",
   "mimetype": "text/x-python",
   "name": "python",
   "nbconvert_exporter": "python",
   "pygments_lexer": "ipython3",
   "version": "3.11.2"
  },
  "orig_nbformat": 4,
  "vscode": {
   "interpreter": {
    "hash": "0fce30ba20483d56f5cb51872d56905f38fc1a84ec573dd538a669c6eecaba69"
   }
  }
 },
 "nbformat": 4,
 "nbformat_minor": 2
}
